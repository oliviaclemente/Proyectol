{
 "cells": [
  {
   "cell_type": "code",
   "execution_count": null,
   "metadata": {
    "vscode": {
     "languageId": "prolog"
    }
   },
   "outputs": [],
   "source": [
    "%Ejemplo 'Knowledge Base' con 4 enfermedades (Muy distintas entre si): \n",
    "% //FACTS// \n",
    "\n",
    "% Otitis \n",
    "enfermedad(otitis).\n",
    "\n",
    "sintoma(otitis,[dolor_de_oido,fiebre,otorrea,vertigo]).\n",
    "\n",
    "tratamiento(otitis,antibiotico).\n",
    "\n",
    "departamento(Otitis,Otorrinolaringologo(unidades_especializadas([Otologia(audicion),Rinologia(nariz),Faringologia(garganta),Laringologia(voz),])))\n",
    "\n",
    "% Gripe \n",
    "\n",
    "enfermedad(gripe).\n",
    "\n",
    "sintoma(gripe,[dolor_de_cabeza,fiebre,malestar_general,dolores_articulares,dolores_musculares]).\n",
    "\n",
    "tratamiento(gripe,reposo_e_hidratacion).\n",
    "\n",
    "tratamiento(gripe,medicacion(paracetamol)).\n",
    "\n",
    "departamento(Gripe,Medicina_Interna(unidades_especializadas(None)))\n",
    "\n",
    "%  Osteoporosis \n",
    "Osteoporosis:-\n",
    "\n",
    "sintoma(osteoporosis,[fracturas_vertebrales,microfracturas,dolor,aplastamientos_vertebrales]),\n",
    "\n",
    "tratamiento(osteoporosis,[dieta(calcio, baja_proteinas),abstencion(tabaco),abstencion(alcohol),ejercicio_fisico]).\n",
    "\n",
    "departamento(Osteoporosis,Endocrinologia_y_Nutricion(unidades_asistenciales[Unidad_de_]))\n",
    "\n",
    "% Neumonia \n",
    "\n",
    "sintoma(neumonia, [tos_con_expectoracion_purulenta, dolor_torácico, fiebre_con_escalofríos]),\n",
    "\n",
    "tratamiento (neumonia,[broncoscopia,serologia, tratamiento_intrevenoso_con_antibioticos]).\n",
    "\n",
    "departamento(Neumonia,(unidades_especializadas([Neumologia_Pediátrica,Neumologia_Intensiva,Neumologia_Respiratoria])))\n"
   ]
  },
  {
   "attachments": {},
   "cell_type": "markdown",
   "metadata": {},
   "source": [
    "\n",
    "# Las reglas necesarias para implementar la lógica de diagnóstico en Prolog, utilizando la base de datos anterior, son las siguientes:"
   ]
  },
  {
   "attachments": {},
   "cell_type": "markdown",
   "metadata": {},
   "source": [
    "1. Síntoma de enfermedad:  Regla para determinar si un paciente presenta un síntoma específico de una enfermedad en particular. Se puede definir de la siguiente manera:"
   ]
  },
  {
   "cell_type": "code",
   "execution_count": null,
   "metadata": {
    "vscode": {
     "languageId": "prolog"
    }
   },
   "outputs": [],
   "source": [
    "sintoma_de_enfermedad(Sintoma, Enfermedad) :-\n",
    "    sintoma(Enfermedad, Sintomas),\n",
    "    member(Sintoma, Sintomas).\n",
    "\n"
   ]
  },
  {
   "attachments": {},
   "cell_type": "markdown",
   "metadata": {},
   "source": [
    "Esta regla devuelve verdadero si el síntoma proporcionado es un síntoma de la enfermedad especificada."
   ]
  },
  {
   "attachments": {},
   "cell_type": "markdown",
   "metadata": {},
   "source": [
    "2. Enfermedad de paciente: Esta regla determina si un paciente tiene una enfermedad en particular. \n",
    "Se puede definir de la siguiente manera:"
   ]
  },
  {
   "cell_type": "code",
   "execution_count": null,
   "metadata": {
    "vscode": {
     "languageId": "prolog"
    }
   },
   "outputs": [],
   "source": [
    "enfermedad_de_paciente(Enfermedad, Sintomas) :-\n",
    "    enfermedad(Enfermedad),\n",
    "    forall(member(Sintoma, Sintomas), sintoma_de_enfermedad(Sintoma, Enfermedad)).\n"
   ]
  },
  {
   "attachments": {},
   "cell_type": "markdown",
   "metadata": {},
   "source": [
    "Esta regla devuelve verdadero si los síntomas proporcionados son consistentes con una enfermedad en particular."
   ]
  },
  {
   "attachments": {},
   "cell_type": "markdown",
   "metadata": {},
   "source": [
    "3. Tratamiento de enfermedad: Esta regla determina el tratamiento recomendado para una enfermedad en particular. Se puede definir de la siguiente manera:"
   ]
  },
  {
   "cell_type": "code",
   "execution_count": null,
   "metadata": {
    "vscode": {
     "languageId": "prolog"
    }
   },
   "outputs": [],
   "source": [
    "tratamiento_de_enfermedad(Enfermedad, Tratamiento) :-\n",
    "    tratamiento(Enfermedad, Tratamientos),\n",
    "    member(Tratamiento, Tratamientos).\n"
   ]
  },
  {
   "attachments": {},
   "cell_type": "markdown",
   "metadata": {},
   "source": [
    "Esta regla devuelve el tratamiento recomendado para una enfermedad específicaa"
   ]
  },
  {
   "attachments": {},
   "cell_type": "markdown",
   "metadata": {},
   "source": [
    "4. Departamento especializado: Esta regla determina el departamento especializado al que un paciente debe acudir según su enfermedad.\n",
    " Se puede definir de la siguiente manera:"
   ]
  },
  {
   "attachments": {},
   "cell_type": "markdown",
   "metadata": {},
   "source": [
    "departamento_especializado(Enfermedad, Departamento) :-\n",
    "    departamento(Enfermedad, Departamento).\n"
   ]
  },
  {
   "attachments": {},
   "cell_type": "markdown",
   "metadata": {},
   "source": [
    "Esta regla devuelve el departamento especializado recomendado para una enfermedad específica."
   ]
  },
  {
   "attachments": {},
   "cell_type": "markdown",
   "metadata": {},
   "source": [
    "5. Con estas reglas, se puede construir un programa en Prolog que permita a los pacientes ingresar sus síntomas y recibir un diagnóstico probable, tratamiento recomendado y recomendaciones para la unidad especializada adecuada. Por ejemplo:"
   ]
  },
  {
   "cell_type": "code",
   "execution_count": null,
   "metadata": {
    "vscode": {
     "languageId": "prolog"
    }
   },
   "outputs": [],
   "source": [
    "diagnosticar_paciente(Sintomas) :-\n",
    "    enfermedad_de_paciente(Enfermedad, Sintomas),\n",
    "    tratamiento_de_enfermedad(Enfermedad, Tratamiento),\n",
    "    departamento_especializado(Enfermedad, Departamento),\n",
    "    write('El paciente tiene '), write(Enfermedad), nl,\n",
    "    write('El tratamiento recomendado es '), write(Tratamiento), nl,\n",
    "    write('Se recomienda acudir a la unidad especializada de '), write(Departamento), nl.\n"
   ]
  },
  {
   "attachments": {},
   "cell_type": "markdown",
   "metadata": {},
   "source": [
    "Para realizar una consulta en línea de comando."
   ]
  },
  {
   "cell_type": "code",
   "execution_count": null,
   "metadata": {
    "vscode": {
     "languageId": "prolog"
    }
   },
   "outputs": [],
   "source": [
    "consult('.pl')\n",
    "?- diagnosticar_paciente([dolor_de_oido, fiebre, otorrea, vertigo]).\n"
   ]
  }
 ],
 "metadata": {
  "language_info": {
   "name": "python"
  },
  "orig_nbformat": 4
 },
 "nbformat": 4,
 "nbformat_minor": 2
}
