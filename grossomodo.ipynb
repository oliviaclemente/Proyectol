{
 "cells": [
  {
   "attachments": {},
   "cell_type": "markdown",
   "metadata": {},
   "source": [
    "Hemos diseñado un programa en 'prolog' que permite , en una ventana gráfica,  al usuario introducir los síntomas que presenta. El paciente recibirá un listado de las enfermedades que es probable,dados sus síntomas, que padezca; acompañadas de un porcentaje, posible tratamiento, a que unidad especializada acudir,...Esto lo dejaré para más adelante.\n",
    "\n",
    "Sobre Prolog...\n",
    "\n",
    "El lenguaje de programación Prolog tiene como fundamento el paradigma lógico, es su 'razón de existir'. Nos hemos apoyado en este paradigma para \n",
    "crear la inteligencia artificial que permite al programa funcionar. La inteligencia artificial la hemos dotado de una 'Knowledge base'\n",
    "con todas las enfermedades existentes y sus respectivos síntomas. Además de unas reglas,las encargadas de determinar que enfermedades es\n",
    "probable que padezca.\n",
    "\n",
    "Sobre el programa...\n",
    "\n",
    "\n",
    "\n",
    "\n"
   ]
  }
 ],
 "metadata": {
  "language_info": {
   "name": "python"
  },
  "orig_nbformat": 4
 },
 "nbformat": 4,
 "nbformat_minor": 2
}
